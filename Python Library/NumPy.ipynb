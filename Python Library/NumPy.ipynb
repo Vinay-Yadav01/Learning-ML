{
  "nbformat": 4,
  "nbformat_minor": 0,
  "metadata": {
    "colab": {
      "provenance": [],
      "collapsed_sections": [
        "1X1yFzwYwip2",
        "kwpzxl2VzZCX",
        "tlxyXZVy6D8t",
        "V3Z3FQ2L8q2L",
        "wCtAvu4M-M9e",
        "3J_XzFqx-P79",
        "MqAS0FBW_fJd",
        "nL6uxwKwCLAm",
        "kAXeGoA_D75A",
        "A_C2tJS2FjNt",
        "fo2XMGxqH129"
      ],
      "authorship_tag": "ABX9TyMxgSq5LS+prxqFnCyx4IY2",
      "include_colab_link": true
    },
    "kernelspec": {
      "name": "python3",
      "display_name": "Python 3"
    },
    "language_info": {
      "name": "python"
    }
  },
  "cells": [
    {
      "cell_type": "markdown",
      "metadata": {
        "id": "view-in-github",
        "colab_type": "text"
      },
      "source": [
        "<a href=\"https://colab.research.google.com/github/Vinay-Yadav01/Learning-ML/blob/main/NumPy.ipynb\" target=\"_parent\"><img src=\"https://colab.research.google.com/assets/colab-badge.svg\" alt=\"Open In Colab\"/></a>"
      ]
    },
    {
      "cell_type": "code",
      "execution_count": null,
      "metadata": {
        "id": "OGV82nI7tGf4"
      },
      "outputs": [],
      "source": [
        "import numpy as np          #### Importing Numpy Library"
      ]
    },
    {
      "cell_type": "markdown",
      "source": [
        "# Numpy vs List"
      ],
      "metadata": {
        "id": "1X1yFzwYwip2"
      }
    },
    {
      "cell_type": "markdown",
      "source": [
        "Type Difference"
      ],
      "metadata": {
        "id": "wgN1hTCryTUD"
      }
    },
    {
      "cell_type": "code",
      "source": [
        "x = numpy.array([1,2,3])\n",
        "print(x)\n",
        "print(type(x));"
      ],
      "metadata": {
        "colab": {
          "base_uri": "https://localhost:8080/"
        },
        "id": "2lzGIfAWwSYZ",
        "outputId": "b43f9d60-68ae-4465-9212-273931219785"
      },
      "execution_count": null,
      "outputs": [
        {
          "output_type": "stream",
          "name": "stdout",
          "text": [
            "[1 2 3]\n",
            "<class 'numpy.ndarray'>\n"
          ]
        }
      ]
    },
    {
      "cell_type": "code",
      "source": [
        "y = [1,2,3]\n",
        "print(y)\n",
        "print(type(y))"
      ],
      "metadata": {
        "colab": {
          "base_uri": "https://localhost:8080/"
        },
        "id": "84NKa4kwwm8i",
        "outputId": "c53037d5-12ab-4e8f-d8d8-823cf4a09149"
      },
      "execution_count": null,
      "outputs": [
        {
          "output_type": "stream",
          "name": "stdout",
          "text": [
            "[1, 2, 3]\n",
            "<class 'list'>\n"
          ]
        }
      ]
    },
    {
      "cell_type": "markdown",
      "source": [
        "Time taken"
      ],
      "metadata": {
        "id": "GBCmttSUybKL"
      }
    },
    {
      "cell_type": "code",
      "source": [
        "%timeit [i**3 for i in range(1000)]"
      ],
      "metadata": {
        "colab": {
          "base_uri": "https://localhost:8080/"
        },
        "id": "dYtsMbWLyA8k",
        "outputId": "5d7023f5-c03e-45ce-e5ec-b504e34d2008"
      },
      "execution_count": null,
      "outputs": [
        {
          "output_type": "stream",
          "name": "stdout",
          "text": [
            "474 µs ± 140 µs per loop (mean ± std. dev. of 7 runs, 1000 loops each)\n"
          ]
        }
      ]
    },
    {
      "cell_type": "code",
      "source": [
        "%timeit numpy.arange(1000)**3"
      ],
      "metadata": {
        "colab": {
          "base_uri": "https://localhost:8080/"
        },
        "id": "1w6F4H4vyFdJ",
        "outputId": "456b4512-fcf0-4154-8ac8-91135c7d0765"
      },
      "execution_count": null,
      "outputs": [
        {
          "output_type": "stream",
          "name": "stdout",
          "text": [
            "5.27 µs ± 178 ns per loop (mean ± std. dev. of 7 runs, 100000 loops each)\n"
          ]
        }
      ]
    },
    {
      "cell_type": "markdown",
      "source": [
        "# Create NumPy Array"
      ],
      "metadata": {
        "id": "kwpzxl2VzZCX"
      }
    },
    {
      "cell_type": "code",
      "source": [
        "y = []\n",
        "for i in range(5):\n",
        "    num = int(input(\"Enter a number: \"))\n",
        "    y.append(num)\n",
        "print(np.array(y))"
      ],
      "metadata": {
        "colab": {
          "base_uri": "https://localhost:8080/"
        },
        "id": "BIhPtMI7zltJ",
        "outputId": "d737f28d-46b8-4099-d2d5-95731c86f758"
      },
      "execution_count": null,
      "outputs": [
        {
          "output_type": "stream",
          "name": "stdout",
          "text": [
            "Enter a number: 02\n",
            "Enter a number: 41\n",
            "Enter a number: 26\n",
            "Enter a number: 75\n",
            "Enter a number: 106\n",
            "[  2  41  26  75 106]\n"
          ]
        }
      ]
    },
    {
      "cell_type": "code",
      "source": [
        "arr = np.array([[1,2,3,4,5], [4,15,9,1,2]])\n",
        "print(arr)\n",
        "print(arr.ndim)\n",
        "print(arr.shape)\n",
        "print(arr.size)\n",
        "print(arr.dtype)"
      ],
      "metadata": {
        "colab": {
          "base_uri": "https://localhost:8080/"
        },
        "id": "_vhY6T9W0Okq",
        "outputId": "3406fdb0-5bb7-4292-a319-d93245c1adaa"
      },
      "execution_count": null,
      "outputs": [
        {
          "output_type": "stream",
          "name": "stdout",
          "text": [
            "[[ 1  2  3  4  5]\n",
            " [ 4 15  9  1  2]]\n",
            "2\n",
            "(2, 5)\n",
            "10\n",
            "int64\n"
          ]
        }
      ]
    },
    {
      "cell_type": "code",
      "source": [
        "arr = np.array([1,2,3,4,5], ndmin=5)\n",
        "print(arr)\n",
        "print(arr.ndim)\n",
        "print(arr.shape)"
      ],
      "metadata": {
        "colab": {
          "base_uri": "https://localhost:8080/"
        },
        "id": "AnLQ4fjS1GUQ",
        "outputId": "0d253804-9b89-4dc6-cf53-454e24dc4909"
      },
      "execution_count": null,
      "outputs": [
        {
          "output_type": "stream",
          "name": "stdout",
          "text": [
            "[[[[[1 2 3 4 5]]]]]\n",
            "5\n",
            "(1, 1, 1, 1, 5)\n"
          ]
        }
      ]
    },
    {
      "cell_type": "markdown",
      "source": [
        "## Special Array"
      ],
      "metadata": {
        "id": "3Ha3tSwg1lxX"
      }
    },
    {
      "cell_type": "code",
      "source": [
        "#Zero Array\n",
        "arr = np.zeros((2,3))\n",
        "print(arr)"
      ],
      "metadata": {
        "colab": {
          "base_uri": "https://localhost:8080/"
        },
        "id": "ILj14nIj1dku",
        "outputId": "a9a2a77b-d5bc-46d3-a737-2c3aa7c067ac"
      },
      "execution_count": null,
      "outputs": [
        {
          "output_type": "stream",
          "name": "stdout",
          "text": [
            "[[0. 0. 0.]\n",
            " [0. 0. 0.]]\n"
          ]
        }
      ]
    },
    {
      "cell_type": "code",
      "source": [
        "#One Array\n",
        "arr = np.ones((2,3))\n",
        "print(arr)"
      ],
      "metadata": {
        "colab": {
          "base_uri": "https://localhost:8080/"
        },
        "id": "0EevG6UI2FZf",
        "outputId": "2e8c21da-fd8c-40cd-ab2f-f2c5f32b2e72"
      },
      "execution_count": null,
      "outputs": [
        {
          "output_type": "stream",
          "name": "stdout",
          "text": [
            "[[1. 1. 1.]\n",
            " [1. 1. 1.]]\n"
          ]
        }
      ]
    },
    {
      "cell_type": "code",
      "source": [
        "#Empty Array\n",
        "arr = np.empty((2,3))\n",
        "print(arr)"
      ],
      "metadata": {
        "colab": {
          "base_uri": "https://localhost:8080/"
        },
        "id": "L_98VHj02OZf",
        "outputId": "dbf2657d-7775-4800-e671-7fa4b8baa272"
      },
      "execution_count": null,
      "outputs": [
        {
          "output_type": "stream",
          "name": "stdout",
          "text": [
            "[[1. 1. 1.]\n",
            " [1. 1. 1.]]\n"
          ]
        }
      ]
    },
    {
      "cell_type": "code",
      "source": [
        "#Within a Range\n",
        "arr = np.arange(2,10)\n",
        "print(arr)"
      ],
      "metadata": {
        "colab": {
          "base_uri": "https://localhost:8080/"
        },
        "id": "TYxUtOPE212Q",
        "outputId": "bc4804c5-8acb-44a1-dcd7-1c977e44cfda"
      },
      "execution_count": null,
      "outputs": [
        {
          "output_type": "stream",
          "name": "stdout",
          "text": [
            "[2 3 4 5 6 7 8 9]\n"
          ]
        }
      ]
    },
    {
      "cell_type": "code",
      "source": [
        "#Identity Matrix\n",
        "arr = np.eye(3)\n",
        "print(arr)"
      ],
      "metadata": {
        "colab": {
          "base_uri": "https://localhost:8080/"
        },
        "id": "Z_dqQvvh3PrO",
        "outputId": "e31f75a1-67c7-40d6-dabf-f6b5aa8f7e94"
      },
      "execution_count": null,
      "outputs": [
        {
          "output_type": "stream",
          "name": "stdout",
          "text": [
            "[[1. 0. 0.]\n",
            " [0. 1. 0.]\n",
            " [0. 0. 1.]]\n"
          ]
        }
      ]
    },
    {
      "cell_type": "code",
      "source": [
        "#If we want array divide in 'num' element with equal interval within a range\n",
        "arr = np.linspace(1,10,num=7)\n",
        "print(arr)"
      ],
      "metadata": {
        "colab": {
          "base_uri": "https://localhost:8080/"
        },
        "id": "lnycyJIl3UPY",
        "outputId": "15db9c56-f59c-4fda-90b5-7e25b6b3f47c"
      },
      "execution_count": null,
      "outputs": [
        {
          "output_type": "stream",
          "name": "stdout",
          "text": [
            "[ 1.   2.5  4.   5.5  7.   8.5 10. ]\n"
          ]
        }
      ]
    },
    {
      "cell_type": "markdown",
      "source": [
        "## NumPy Array with Random Function"
      ],
      "metadata": {
        "id": "it89bV-W4Y7q"
      }
    },
    {
      "cell_type": "code",
      "source": [
        "#Rand() --> It generate random number between 0 and 1\n",
        "arr = np.random.rand(3)\n",
        "print(arr)"
      ],
      "metadata": {
        "colab": {
          "base_uri": "https://localhost:8080/"
        },
        "id": "Vw-idHhi4iQK",
        "outputId": "e6f9c824-01f3-4e39-e480-a5e7c868fe11"
      },
      "execution_count": null,
      "outputs": [
        {
          "output_type": "stream",
          "name": "stdout",
          "text": [
            "[0.63245229 0.61299174 0.37122544]\n"
          ]
        }
      ]
    },
    {
      "cell_type": "code",
      "source": [
        "#randn() --> It generate random number closes to 0 either positive or negative\n",
        "arr = np.random.randn(3,5)\n",
        "print(arr)"
      ],
      "metadata": {
        "colab": {
          "base_uri": "https://localhost:8080/"
        },
        "id": "KtArqEbB4wmf",
        "outputId": "ef242a81-20a1-497f-933d-1d0763833148"
      },
      "execution_count": null,
      "outputs": [
        {
          "output_type": "stream",
          "name": "stdout",
          "text": [
            "[[ 0.02672077  0.73522372 -0.26673982  2.00499152 -0.39383493]\n",
            " [-0.37642201 -0.25279326  1.71812371  0.59127994 -1.47361492]\n",
            " [ 0.43922819 -0.50056499  0.69933061  1.41823801  1.00365132]]\n"
          ]
        }
      ]
    },
    {
      "cell_type": "code",
      "source": [
        "#randf() --> Same as rand() but here 1 is exclusive\n",
        "arr = np.random.ranf((3,4,5))\n",
        "print(arr)"
      ],
      "metadata": {
        "colab": {
          "base_uri": "https://localhost:8080/"
        },
        "id": "1BWbN6XL5Q9q",
        "outputId": "d0123d08-6cbd-4e99-e9c9-1e1315414f4e"
      },
      "execution_count": null,
      "outputs": [
        {
          "output_type": "stream",
          "name": "stdout",
          "text": [
            "[[[0.78224699 0.9578815  0.65303054 0.37831127 0.22935008]\n",
            "  [0.08441829 0.17033837 0.10084701 0.64797114 0.86162652]\n",
            "  [0.69108643 0.74982035 0.49535584 0.70929504 0.43811625]\n",
            "  [0.77842905 0.04381392 0.95414698 0.30486453 0.72959072]]\n",
            "\n",
            " [[0.57473673 0.95514498 0.01298938 0.35207711 0.65854418]\n",
            "  [0.34158468 0.33599457 0.267129   0.65083525 0.78277137]\n",
            "  [0.25914856 0.7706071  0.06975438 0.58080563 0.93019542]\n",
            "  [0.12699333 0.91090151 0.90275284 0.78513509 0.68131599]]\n",
            "\n",
            " [[0.4797499  0.52059196 0.62613292 0.07834434 0.35172983]\n",
            "  [0.59847384 0.25074221 0.98734073 0.86531984 0.0683368 ]\n",
            "  [0.96524021 0.05443338 0.43951509 0.41806263 0.12696675]\n",
            "  [0.01085441 0.77326853 0.03818337 0.52204105 0.63002955]]]\n"
          ]
        }
      ]
    },
    {
      "cell_type": "code",
      "source": [
        "#randint() --> It generate random nu,ber between any given range\n",
        "arr = np.random.randint(1,100,(4,10))\n",
        "print(arr)"
      ],
      "metadata": {
        "colab": {
          "base_uri": "https://localhost:8080/"
        },
        "id": "2YQ2OStP5kUO",
        "outputId": "bd405eb2-ad06-489a-a2e7-8231ad1aef7b"
      },
      "execution_count": null,
      "outputs": [
        {
          "output_type": "stream",
          "name": "stdout",
          "text": [
            "[[ 4 52 79 59 87 95 73 54 60 44]\n",
            " [23  7 62 17 54 68 69 82 69 97]\n",
            " [88 55  8 83 36  3 93 89 77 13]\n",
            " [82 10 46 61 75 15 46  6 47 89]]\n"
          ]
        }
      ]
    },
    {
      "cell_type": "markdown",
      "source": [
        "# Data Type in Numpy"
      ],
      "metadata": {
        "id": "tlxyXZVy6D8t"
      }
    },
    {
      "cell_type": "code",
      "source": [
        "arr = np.array([1,2,3,4,5])\n",
        "print(arr.dtype)"
      ],
      "metadata": {
        "colab": {
          "base_uri": "https://localhost:8080/"
        },
        "id": "0CC64EsR5tMn",
        "outputId": "fd35568d-00bd-4c2c-bba2-81e458204fb2"
      },
      "execution_count": null,
      "outputs": [
        {
          "output_type": "stream",
          "name": "stdout",
          "text": [
            "int64\n"
          ]
        }
      ]
    },
    {
      "cell_type": "code",
      "source": [
        "arr = np.array(['A', 'B', 'C'])\n",
        "print(arr.dtype)"
      ],
      "metadata": {
        "colab": {
          "base_uri": "https://localhost:8080/"
        },
        "id": "aqrG0ZrT63tf",
        "outputId": "30e3a8c3-922e-4ef0-d31d-e1f24031a7ac"
      },
      "execution_count": null,
      "outputs": [
        {
          "output_type": "stream",
          "name": "stdout",
          "text": [
            "<U1\n"
          ]
        }
      ]
    },
    {
      "cell_type": "code",
      "source": [
        "#Changing datatype\n",
        "arr = np.array([1,2,3,4,5], dtype=np.int8)\n",
        "print(arr.dtype)"
      ],
      "metadata": {
        "colab": {
          "base_uri": "https://localhost:8080/"
        },
        "id": "ct7c0SNy6w8B",
        "outputId": "6025f40c-6426-45fc-eff9-2857f75f7b19"
      },
      "execution_count": null,
      "outputs": [
        {
          "output_type": "stream",
          "name": "stdout",
          "text": [
            "int8\n"
          ]
        }
      ]
    },
    {
      "cell_type": "code",
      "source": [
        "#Another Way\n",
        "arr = np.array([1,2,3,4,5], dtype='f')\n",
        "print(arr.dtype)"
      ],
      "metadata": {
        "colab": {
          "base_uri": "https://localhost:8080/"
        },
        "id": "ijzRHCWa7egq",
        "outputId": "7392e098-1053-4e0c-d4ef-b16251e5a8a0"
      },
      "execution_count": null,
      "outputs": [
        {
          "output_type": "stream",
          "name": "stdout",
          "text": [
            "float32\n"
          ]
        }
      ]
    },
    {
      "cell_type": "code",
      "source": [
        "#Similarly\n",
        "arr = np.float32([1,2,3,4,5])\n",
        "print(arr.dtype)"
      ],
      "metadata": {
        "colab": {
          "base_uri": "https://localhost:8080/"
        },
        "id": "ILg-l6UJ8KoS",
        "outputId": "bd1ce2d9-bf78-4bbc-df46-eb6647edf9ac"
      },
      "execution_count": null,
      "outputs": [
        {
          "output_type": "stream",
          "name": "stdout",
          "text": [
            "float32\n"
          ]
        }
      ]
    },
    {
      "cell_type": "code",
      "source": [
        "#Another Way\n",
        "arr = np.array([1,2,3,4,5])\n",
        "newarr = arr.astype(np.float32) #or arr.astype(float)\n",
        "print(arr.dtype)\n",
        "print(newarr.dtype)"
      ],
      "metadata": {
        "colab": {
          "base_uri": "https://localhost:8080/"
        },
        "id": "vKPgvQEA8Rkg",
        "outputId": "1ab334ed-7a9a-447d-bee7-ae56f00e56f7"
      },
      "execution_count": null,
      "outputs": [
        {
          "output_type": "stream",
          "name": "stdout",
          "text": [
            "int64\n",
            "float32\n"
          ]
        }
      ]
    },
    {
      "cell_type": "markdown",
      "source": [
        "# NumPy Arithmetic Operation"
      ],
      "metadata": {
        "id": "V3Z3FQ2L8q2L"
      }
    },
    {
      "cell_type": "markdown",
      "source": [
        "## 1-D Array"
      ],
      "metadata": {
        "id": "wCtAvu4M-M9e"
      }
    },
    {
      "cell_type": "code",
      "source": [
        "#For 1-D Array\n",
        "arr = np.array([1,2,3,4,5])\n",
        "print(arr+2)\n",
        "print(arr-2)\n",
        "print(arr*2)\n",
        "print(arr/2)\n",
        "print(arr%2)"
      ],
      "metadata": {
        "colab": {
          "base_uri": "https://localhost:8080/"
        },
        "id": "AicZFLA18y7m",
        "outputId": "e15ced7d-49dc-4a05-8115-9afd0e5f4856"
      },
      "execution_count": null,
      "outputs": [
        {
          "output_type": "stream",
          "name": "stdout",
          "text": [
            "[3 4 5 6 7]\n",
            "[-1  0  1  2  3]\n",
            "[ 2  4  6  8 10]\n",
            "[0.5 1.  1.5 2.  2.5]\n",
            "[1 0 1 0 1]\n"
          ]
        }
      ]
    },
    {
      "cell_type": "code",
      "source": [
        "#Similar can be done by their respective function as below\n",
        "arr = np.array([1,2,3,4,5])\n",
        "print(np.add(arr,2))\n",
        "print(np.subtract(arr,2))\n",
        "print(np.multiply(arr,2))\n",
        "print(np.divide(arr,2))\n",
        "print(np.mod(arr,2))\n",
        "print(np.power(arr,2))\n",
        "print(np.reciprocal(arr))"
      ],
      "metadata": {
        "colab": {
          "base_uri": "https://localhost:8080/"
        },
        "id": "VazzNO9h9nzv",
        "outputId": "9f2bd202-18f2-4a20-b664-f5b1af700b5a"
      },
      "execution_count": null,
      "outputs": [
        {
          "output_type": "stream",
          "name": "stdout",
          "text": [
            "[3 4 5 6 7]\n",
            "[-1  0  1  2  3]\n",
            "[ 2  4  6  8 10]\n",
            "[0.5 1.  1.5 2.  2.5]\n",
            "[1 0 1 0 1]\n",
            "[ 1  4  9 16 25]\n",
            "[1 0 0 0 0]\n"
          ]
        }
      ]
    },
    {
      "cell_type": "code",
      "source": [
        "#For 2 1-D Array\n",
        "arr1 = np.array([1,2,3,4,5])\n",
        "arr2 = np.array([6,7,8,9,10])\n",
        "print(arr1+arr2)\n",
        "print(arr1-arr2)\n",
        "print(arr1*arr2)\n",
        "print(arr1/arr2)\n",
        "print(arr1%arr2)"
      ],
      "metadata": {
        "colab": {
          "base_uri": "https://localhost:8080/"
        },
        "id": "R9hgiVWA8-lJ",
        "outputId": "fcd42b0d-d8f5-4c4b-e3ba-262beb147ce6"
      },
      "execution_count": null,
      "outputs": [
        {
          "output_type": "stream",
          "name": "stdout",
          "text": [
            "[ 7  9 11 13 15]\n",
            "[-5 -5 -5 -5 -5]\n",
            "[ 6 14 24 36 50]\n",
            "[0.16666667 0.28571429 0.375      0.44444444 0.5       ]\n",
            "[1 2 3 4 5]\n"
          ]
        }
      ]
    },
    {
      "cell_type": "code",
      "source": [
        "#Similarly their function same as above\n",
        "arr1 = np.array([1,2,3,4,5])\n",
        "arr2 = np.array([6,7,8,9,10])\n",
        "print(np.add(arr1,arr2))\n",
        "print(np.subtract(arr1,arr2))\n",
        "print(np.multiply(arr1,arr2))\n",
        "print(np.divide(arr1,arr2))\n",
        "print(np.mod(arr1,arr2))\n",
        "print(np.power(arr1,arr2))\n",
        "print(np.reciprocal(arr1))"
      ],
      "metadata": {
        "colab": {
          "base_uri": "https://localhost:8080/"
        },
        "id": "0x8s9oBG95Q8",
        "outputId": "fffeea53-1f02-4c08-e92f-577386c43f70"
      },
      "execution_count": null,
      "outputs": [
        {
          "output_type": "stream",
          "name": "stdout",
          "text": [
            "[ 7  9 11 13 15]\n",
            "[-5 -5 -5 -5 -5]\n",
            "[ 6 14 24 36 50]\n",
            "[0.16666667 0.28571429 0.375      0.44444444 0.5       ]\n",
            "[1 2 3 4 5]\n",
            "[      1     128    6561  262144 9765625]\n",
            "[1 0 0 0 0]\n"
          ]
        }
      ]
    },
    {
      "cell_type": "markdown",
      "source": [
        "## 2-D Array"
      ],
      "metadata": {
        "id": "3J_XzFqx-P79"
      }
    },
    {
      "cell_type": "code",
      "source": [
        "arr1 = np.array([[1,2,3,4,5], [6,7,8,9,10]])\n",
        "arr2 = np.array([[11,12,13,14,15], [16,17,18,19,20]])\n",
        "print(arr1+arr2)\n",
        "print(arr1-arr2)\n",
        "print(arr1*arr2)\n",
        "print(arr1/arr2)\n",
        "print(arr1%arr2)"
      ],
      "metadata": {
        "colab": {
          "base_uri": "https://localhost:8080/"
        },
        "id": "YkLGynoK-TeL",
        "outputId": "8fc1a86e-60e6-41da-ed9f-7538999a70d3"
      },
      "execution_count": null,
      "outputs": [
        {
          "output_type": "stream",
          "name": "stdout",
          "text": [
            "[[12 14 16 18 20]\n",
            " [22 24 26 28 30]]\n",
            "[[-10 -10 -10 -10 -10]\n",
            " [-10 -10 -10 -10 -10]]\n",
            "[[ 11  24  39  56  75]\n",
            " [ 96 119 144 171 200]]\n",
            "[[0.09090909 0.16666667 0.23076923 0.28571429 0.33333333]\n",
            " [0.375      0.41176471 0.44444444 0.47368421 0.5       ]]\n",
            "[[ 1  2  3  4  5]\n",
            " [ 6  7  8  9 10]]\n"
          ]
        }
      ]
    },
    {
      "cell_type": "markdown",
      "source": [
        "## More Arithmetic Function of NumPy"
      ],
      "metadata": {
        "id": "y1lmMR1E-8OS"
      }
    },
    {
      "cell_type": "markdown",
      "source": [
        "### 1-D Array"
      ],
      "metadata": {
        "id": "MqAS0FBW_fJd"
      }
    },
    {
      "cell_type": "code",
      "source": [
        "arr = np.array([1,2,3,4,5])\n",
        "print(np.min(arr))\n",
        "print(np.max(arr))\n",
        "print(np.argmin(arr))\n",
        "print(np.argmax(arr))\n",
        "print(np.sqrt(arr))\n",
        "print(np.cumsum(arr))"
      ],
      "metadata": {
        "colab": {
          "base_uri": "https://localhost:8080/"
        },
        "id": "Ng5qm7GJ_MRO",
        "outputId": "92b6f512-6f23-4ac6-cc82-685701446edb"
      },
      "execution_count": null,
      "outputs": [
        {
          "output_type": "stream",
          "name": "stdout",
          "text": [
            "1\n",
            "5\n",
            "0\n",
            "4\n",
            "[1.         1.41421356 1.73205081 2.         2.23606798]\n",
            "[ 1  3  6 10 15]\n"
          ]
        }
      ]
    },
    {
      "cell_type": "code",
      "source": [
        "arr = np.array([1,2,3,4,5])\n",
        "print(np.sin(arr))\n",
        "print(np.cos(arr))\n",
        "print(np.tan(arr))\n"
      ],
      "metadata": {
        "colab": {
          "base_uri": "https://localhost:8080/"
        },
        "id": "rvtfJ9zG_BdN",
        "outputId": "826aac6b-ff04-4a2c-8624-0332cc7d4528"
      },
      "execution_count": null,
      "outputs": [
        {
          "output_type": "stream",
          "name": "stdout",
          "text": [
            "[ 0.84147098  0.90929743  0.14112001 -0.7568025  -0.95892427]\n",
            "[ 0.54030231 -0.41614684 -0.9899925  -0.65364362  0.28366219]\n",
            "[ 1.55740772 -2.18503986 -0.14254654  1.15782128 -3.38051501]\n"
          ]
        }
      ]
    },
    {
      "cell_type": "markdown",
      "source": [
        "### 2-D Array"
      ],
      "metadata": {
        "id": "2cedG5w8_jz2"
      }
    },
    {
      "cell_type": "code",
      "source": [
        "arr = np.array([[1,2,3,4,5], [6,7,8,9,10]])\n",
        "print(np.min(arr))\n",
        "print(np.max(arr))\n",
        "print(np.argmin(arr))\n",
        "print(np.argmax(arr))\n",
        "print(np.sqrt(arr))"
      ],
      "metadata": {
        "colab": {
          "base_uri": "https://localhost:8080/"
        },
        "id": "OVsCRx8I_pCS",
        "outputId": "3935dd11-59eb-4626-f92e-75f896333cd9"
      },
      "execution_count": null,
      "outputs": [
        {
          "output_type": "stream",
          "name": "stdout",
          "text": [
            "1\n",
            "10\n",
            "0\n",
            "9\n",
            "[[1.         1.41421356 1.73205081 2.         2.23606798]\n",
            " [2.44948974 2.64575131 2.82842712 3.         3.16227766]]\n"
          ]
        }
      ]
    },
    {
      "cell_type": "markdown",
      "source": [
        "Means if we pass any n array it will internally take it as 1-D\n",
        "\n",
        "But if we want to take them along every row of every col or any dimension, we have to pass axis value"
      ],
      "metadata": {
        "id": "q4auf1T9_yEt"
      }
    },
    {
      "cell_type": "code",
      "source": [
        "arr = np.array([[1,2,3,4,5], [6,7,8,9,10]])\n",
        "\n",
        "#axis = 0 --> means col wise\n",
        "#axis = 1 --> means row wise\n",
        "\n",
        "print(np.min(arr, axis=0))\n",
        "print(np.max(arr, axis=0))\n",
        "print(np.argmin(arr, axis=0))\n",
        "print(np.argmax(arr, axis=0))\n",
        "print(np.sqrt(arr))\n",
        "\n",
        "print(np.min(arr, axis=1))\n",
        "print(np.max(arr, axis=1))\n",
        "print(np.argmin(arr, axis=1))\n",
        "print(np.argmax(arr, axis=1))\n",
        "print(np.sqrt(arr))"
      ],
      "metadata": {
        "colab": {
          "base_uri": "https://localhost:8080/"
        },
        "id": "dwB1A332AJjg",
        "outputId": "8f202b5b-da13-4914-9694-5a88e32c31e3"
      },
      "execution_count": null,
      "outputs": [
        {
          "output_type": "stream",
          "name": "stdout",
          "text": [
            "[1 2 3 4 5]\n",
            "[ 6  7  8  9 10]\n",
            "[0 0 0 0 0]\n",
            "[1 1 1 1 1]\n",
            "[[1.         1.41421356 1.73205081 2.         2.23606798]\n",
            " [2.44948974 2.64575131 2.82842712 3.         3.16227766]]\n",
            "[1 6]\n",
            "[ 5 10]\n",
            "[0 0]\n",
            "[4 4]\n",
            "[[1.         1.41421356 1.73205081 2.         2.23606798]\n",
            " [2.44948974 2.64575131 2.82842712 3.         3.16227766]]\n"
          ]
        }
      ]
    },
    {
      "cell_type": "markdown",
      "source": [
        "# Shape and Reshape\n"
      ],
      "metadata": {
        "id": "nL6uxwKwCLAm"
      }
    },
    {
      "cell_type": "code",
      "source": [
        "arr = np.array([[1,2,3,4,5], [6,7,8,9,10], [11,12,13,14,15],[16,17,18,19,20]])\n",
        "print(arr.shape)\n",
        "arr.reshape(5,2,2)\n",
        "# arr.reshape(-1)"
      ],
      "metadata": {
        "colab": {
          "base_uri": "https://localhost:8080/"
        },
        "id": "n7cYemPICSFh",
        "outputId": "4b1d27af-1830-42d5-fc82-425cbf2fc23f"
      },
      "execution_count": null,
      "outputs": [
        {
          "output_type": "stream",
          "name": "stdout",
          "text": [
            "(4, 5)\n"
          ]
        },
        {
          "output_type": "execute_result",
          "data": {
            "text/plain": [
              "array([ 1,  2,  3,  4,  5,  6,  7,  8,  9, 10, 11, 12, 13, 14, 15, 16, 17,\n",
              "       18, 19, 20])"
            ]
          },
          "metadata": {},
          "execution_count": 14
        }
      ]
    },
    {
      "cell_type": "markdown",
      "source": [
        "# Broadcasting"
      ],
      "metadata": {
        "id": "kAXeGoA_D75A"
      }
    },
    {
      "cell_type": "code",
      "source": [
        "arr1 = np.array([1,2,3,4])\n",
        "arr2 = np.array([1,2,3])\n",
        "# arr1+arr2  #Generate error of broadcasting\n",
        "arr2 = np.array([[1],[2],[3]])\n",
        "print(arr1+arr2)   #Work Fine"
      ],
      "metadata": {
        "colab": {
          "base_uri": "https://localhost:8080/"
        },
        "id": "CSkJnaPbEDhn",
        "outputId": "50fb4f80-9d0d-486f-86fc-8d7a73330c3e"
      },
      "execution_count": null,
      "outputs": [
        {
          "output_type": "stream",
          "name": "stdout",
          "text": [
            "[[2 3 4 5]\n",
            " [3 4 5 6]\n",
            " [4 5 6 7]]\n"
          ]
        }
      ]
    },
    {
      "cell_type": "markdown",
      "source": [
        "# Indexing and Slicing"
      ],
      "metadata": {
        "id": "A_C2tJS2FjNt"
      }
    },
    {
      "cell_type": "markdown",
      "source": [
        "## Indexing"
      ],
      "metadata": {
        "id": "YWw0c_QGGrUF"
      }
    },
    {
      "cell_type": "code",
      "source": [
        "arr = np.array([1,2,3,4])\n",
        "#Indexing       0,1,2,3\n",
        "#              -4,-3,-2,-1\n",
        "print(arr[0])\n",
        "print(arr[-1])"
      ],
      "metadata": {
        "colab": {
          "base_uri": "https://localhost:8080/"
        },
        "id": "f1uKYwPIFl6P",
        "outputId": "89203ee7-46b2-438b-f55f-c2f4da60f18d"
      },
      "execution_count": null,
      "outputs": [
        {
          "output_type": "stream",
          "name": "stdout",
          "text": [
            "1\n",
            "4\n"
          ]
        }
      ]
    },
    {
      "cell_type": "code",
      "source": [
        "arr = np.array([[1,2,3,4],[5,6,7,8]])\n",
        "print(arr[0,1])\n",
        "print(arr[1,-1])"
      ],
      "metadata": {
        "colab": {
          "base_uri": "https://localhost:8080/"
        },
        "id": "XFriwtw1GbJ8",
        "outputId": "b681cbaa-14cb-4861-9d27-4a61fcf7e5aa"
      },
      "execution_count": null,
      "outputs": [
        {
          "output_type": "stream",
          "name": "stdout",
          "text": [
            "2\n",
            "8\n"
          ]
        }
      ]
    },
    {
      "cell_type": "markdown",
      "source": [
        "## Slicing"
      ],
      "metadata": {
        "id": "AG3IpkOYGxap"
      }
    },
    {
      "cell_type": "code",
      "source": [
        "arr = np.array([1,2,3,4,5,6,7])\n",
        "#Indexing       0,1,2,3,4,5,6\n",
        "print(arr[1:5])\n",
        "print(arr[4:])\n",
        "print(arr[:4])\n",
        "print(arr[-3:-1])\n",
        "print(arr[1:5:2])"
      ],
      "metadata": {
        "colab": {
          "base_uri": "https://localhost:8080/"
        },
        "id": "sRP0SSrZGzWS",
        "outputId": "298bbbd4-51de-43cd-e758-013a79bc9b1e"
      },
      "execution_count": null,
      "outputs": [
        {
          "output_type": "stream",
          "name": "stdout",
          "text": [
            "[2 3 4 5]\n",
            "[5 6 7]\n",
            "[1 2 3 4]\n",
            "[5 6]\n",
            "[2 4]\n"
          ]
        }
      ]
    },
    {
      "cell_type": "code",
      "source": [
        "arr = np.array([[1,2,3,4,5], [6,7,8,9,10]])\n",
        "print(arr[1, 1:4])\n",
        "print(arr[0:2, 2])"
      ],
      "metadata": {
        "colab": {
          "base_uri": "https://localhost:8080/"
        },
        "id": "DUfz4Y2cHgzR",
        "outputId": "63de041d-4fef-43c5-8bb2-96f303ed508b"
      },
      "execution_count": null,
      "outputs": [
        {
          "output_type": "stream",
          "name": "stdout",
          "text": [
            "[7 8 9]\n",
            "[3 8]\n"
          ]
        }
      ]
    },
    {
      "cell_type": "markdown",
      "source": [
        "# Iterating"
      ],
      "metadata": {
        "id": "fo2XMGxqH129"
      }
    },
    {
      "cell_type": "code",
      "source": [
        "arr = np.array([1,2,3,4])\n",
        "for i in arr:\n",
        "  print(i)"
      ],
      "metadata": {
        "colab": {
          "base_uri": "https://localhost:8080/"
        },
        "id": "Pa3BuhOnH4A4",
        "outputId": "ed574a61-65e5-45ce-ea7a-eb6466fac271"
      },
      "execution_count": null,
      "outputs": [
        {
          "output_type": "stream",
          "name": "stdout",
          "text": [
            "1\n",
            "2\n",
            "3\n",
            "4\n"
          ]
        }
      ]
    },
    {
      "cell_type": "code",
      "source": [
        "arr = np.array([[1,2,3,4],[5,6,7,8]])\n",
        "for i in arr:\n",
        "  print(i)"
      ],
      "metadata": {
        "colab": {
          "base_uri": "https://localhost:8080/"
        },
        "id": "Mg2d1WvuIIZi",
        "outputId": "8944633d-0540-49a7-f023-a1e32cf5b8f0"
      },
      "execution_count": null,
      "outputs": [
        {
          "output_type": "stream",
          "name": "stdout",
          "text": [
            "[1 2 3 4]\n",
            "[5 6 7 8]\n"
          ]
        }
      ]
    },
    {
      "cell_type": "code",
      "source": [
        "arr = np.array([[1,2,3,4],[5,6,7,8]])\n",
        "for i in arr:\n",
        "  for j in i:\n",
        "    print(j)"
      ],
      "metadata": {
        "colab": {
          "base_uri": "https://localhost:8080/"
        },
        "id": "zw_1Ow2lIMUi",
        "outputId": "6dba0d82-9345-41bc-f536-a4113897c207"
      },
      "execution_count": null,
      "outputs": [
        {
          "output_type": "stream",
          "name": "stdout",
          "text": [
            "1\n",
            "2\n",
            "3\n",
            "4\n",
            "5\n",
            "6\n",
            "7\n",
            "8\n"
          ]
        }
      ]
    },
    {
      "cell_type": "code",
      "source": [
        "arr = np.array([[[1,2,3,4],[5,6,7,8]],[[9,10,11,12],[13,14,15,16]]]) #Corrected the array definition to create a 3D array\n",
        "for i in arr:\n",
        "  for j in i:\n",
        "    for k in j:\n",
        "      print(k)"
      ],
      "metadata": {
        "colab": {
          "base_uri": "https://localhost:8080/"
        },
        "id": "HjIElp19JLCn",
        "outputId": "0d9d8333-8996-4943-b017-a2b02bef82c2"
      },
      "execution_count": null,
      "outputs": [
        {
          "output_type": "stream",
          "name": "stdout",
          "text": [
            "1\n",
            "2\n",
            "3\n",
            "4\n",
            "5\n",
            "6\n",
            "7\n",
            "8\n",
            "9\n",
            "10\n",
            "11\n",
            "12\n",
            "13\n",
            "14\n",
            "15\n",
            "16\n"
          ]
        }
      ]
    },
    {
      "cell_type": "code",
      "source": [
        "#Function for iterating multiple loops\n",
        "arr = np.array([[[1,2,3,4],[5,6,7,8]],[[9,10,11,12],[13,14,15,16]]]) #Corrected the array definition to create a 3D array\n",
        "# for i in np.nditer(arr):\n",
        "#   print(i)\n",
        "\n",
        "#Using buffer to change its type ans store it in buffer\n",
        "# for i in np.nditer(arr, flags=['buffered'], op_dtypes=['S']):\n",
        "#   print(i)\n",
        "\n",
        "#Printing with indexing too\n",
        "for idx, x in np.ndenumerate(arr):\n",
        "  print(idx, x)"
      ],
      "metadata": {
        "colab": {
          "base_uri": "https://localhost:8080/"
        },
        "id": "U5UqxIHIIn2k",
        "outputId": "8f20d373-aea3-45b5-88b3-b04b9f980daf"
      },
      "execution_count": null,
      "outputs": [
        {
          "output_type": "stream",
          "name": "stdout",
          "text": [
            "(0, 0, 0) 1\n",
            "(0, 0, 1) 2\n",
            "(0, 0, 2) 3\n",
            "(0, 0, 3) 4\n",
            "(0, 1, 0) 5\n",
            "(0, 1, 1) 6\n",
            "(0, 1, 2) 7\n",
            "(0, 1, 3) 8\n",
            "(1, 0, 0) 9\n",
            "(1, 0, 1) 10\n",
            "(1, 0, 2) 11\n",
            "(1, 0, 3) 12\n",
            "(1, 1, 0) 13\n",
            "(1, 1, 1) 14\n",
            "(1, 1, 2) 15\n",
            "(1, 1, 3) 16\n"
          ]
        }
      ]
    },
    {
      "cell_type": "markdown",
      "source": [
        "# Copy and View Function"
      ],
      "metadata": {
        "id": "s9mkSXk-KG74"
      }
    },
    {
      "cell_type": "code",
      "source": [
        "arr = np.array([1,2,3,4])\n",
        "print(arr)\n",
        "copy_arr = arr.copy()\n",
        "print(copy_arr)"
      ],
      "metadata": {
        "colab": {
          "base_uri": "https://localhost:8080/"
        },
        "id": "sa6-ySKLKGBP",
        "outputId": "aa9178f3-5d5d-48a5-ba01-7ac47a6b6204"
      },
      "execution_count": null,
      "outputs": [
        {
          "output_type": "stream",
          "name": "stdout",
          "text": [
            "[1 2 3 4]\n",
            "[1 2 3 4]\n"
          ]
        }
      ]
    },
    {
      "cell_type": "code",
      "source": [
        "arr = np.array([1,2,3,4])\n",
        "print(arr)\n",
        "view_arr = arr.view()\n",
        "print(view_arr)"
      ],
      "metadata": {
        "id": "5E0OpPDMKR0c"
      },
      "execution_count": null,
      "outputs": []
    },
    {
      "cell_type": "markdown",
      "source": [
        "Although they looks same but they perform different task, as in **copy**, we make a copy of oeiginal array therefore any changes in copy array will not reflect in original array but in **view**, it actually pointing to same in array therefore any changes will reflect in original array too."
      ],
      "metadata": {
        "id": "zfRIydg0LGli"
      }
    },
    {
      "cell_type": "markdown",
      "source": [
        "# Joining and Split"
      ],
      "metadata": {
        "id": "2eCsC8R2KPEe"
      }
    },
    {
      "cell_type": "markdown",
      "source": [
        "## Joining Function"
      ],
      "metadata": {
        "id": "eNoyOVj8QzQb"
      }
    },
    {
      "cell_type": "code",
      "source": [
        "arr1 = np.array([1,2,3,4])\n",
        "arr2 = np.array([5,6,7,8])\n",
        "# arr = np.concatenate((arr1, arr2))\n",
        "# print(arr)\n",
        "\n",
        "#Using Stack Function\n",
        "arr = np.stack((arr1, arr2), axis=1)\n",
        "print(arr)"
      ],
      "metadata": {
        "id": "1Nk3SzZtLqqJ",
        "colab": {
          "base_uri": "https://localhost:8080/"
        },
        "outputId": "e590bf84-d0ae-40fd-88bb-e5e280f088d2"
      },
      "execution_count": 40,
      "outputs": [
        {
          "output_type": "stream",
          "name": "stdout",
          "text": [
            "[[1 5]\n",
            " [2 6]\n",
            " [3 7]\n",
            " [4 8]]\n"
          ]
        }
      ]
    },
    {
      "cell_type": "code",
      "source": [
        "arr1 = np.array([[1,2,3,4],[5,6,7,8]])\n",
        "arr2 = np.array([[9,10,11,12],[13,14,15,16]])\n",
        "# arr = np.concatenate((arr1, arr2), axis=1) #Along Row\n",
        "# print(arr)\n",
        "\n",
        "\n",
        "#Using Stack Function\n",
        "arr = np.stack((arr1, arr2), axis=1)\n",
        "print(arr)"
      ],
      "metadata": {
        "colab": {
          "base_uri": "https://localhost:8080/"
        },
        "id": "qntt1TpxMOzw",
        "outputId": "c9316d76-7fd2-48a4-ebf8-3996ddb5c14b"
      },
      "execution_count": 39,
      "outputs": [
        {
          "output_type": "stream",
          "name": "stdout",
          "text": [
            "[[[ 1  2  3  4]\n",
            "  [ 9 10 11 12]]\n",
            "\n",
            " [[ 5  6  7  8]\n",
            "  [13 14 15 16]]]\n"
          ]
        }
      ]
    },
    {
      "cell_type": "code",
      "source": [
        "#Diferent types of stack function\n",
        "\n",
        "arr1 = np.array([1,2,3,4])\n",
        "arr2 = np.array([5,6,7,8])\n",
        "arr = np.stack((arr1, arr2), axis=1)\n",
        "print(arr)\n",
        "arr = np.hstack((arr1, arr2))\n",
        "print(arr)\n",
        "arr = np.vstack((arr1, arr2))\n",
        "print(arr)\n",
        "arr = np.dstack((arr1, arr2))\n",
        "print(arr)"
      ],
      "metadata": {
        "colab": {
          "base_uri": "https://localhost:8080/"
        },
        "id": "m20i1UTAN4UB",
        "outputId": "3cc7f9c4-b460-4efc-b5d3-51284b72b750"
      },
      "execution_count": 41,
      "outputs": [
        {
          "output_type": "stream",
          "name": "stdout",
          "text": [
            "[[1 5]\n",
            " [2 6]\n",
            " [3 7]\n",
            " [4 8]]\n",
            "[1 2 3 4 5 6 7 8]\n",
            "[[1 2 3 4]\n",
            " [5 6 7 8]]\n",
            "[[[1 5]\n",
            "  [2 6]\n",
            "  [3 7]\n",
            "  [4 8]]]\n"
          ]
        }
      ]
    },
    {
      "cell_type": "markdown",
      "source": [
        "## Spliting Function"
      ],
      "metadata": {
        "id": "uQDpdtlFQ5ZP"
      }
    },
    {
      "cell_type": "code",
      "source": [
        "arr = np.array([1,2,3,4,5,6])\n",
        "newarr = np.array_split(arr, 3)\n",
        "print(newarr) #List of Array\n",
        "#Individual Array\n",
        "for i in newarr:\n",
        "  print(i)"
      ],
      "metadata": {
        "colab": {
          "base_uri": "https://localhost:8080/"
        },
        "id": "jPXtRan7Q8kj",
        "outputId": "4f9ccb0c-93c4-465a-d88b-efee06da8bf2"
      },
      "execution_count": 43,
      "outputs": [
        {
          "output_type": "stream",
          "name": "stdout",
          "text": [
            "[array([1, 2]), array([3, 4]), array([5, 6])]\n",
            "[1 2]\n",
            "[3 4]\n",
            "[5 6]\n"
          ]
        }
      ]
    },
    {
      "cell_type": "code",
      "source": [
        "arr = np.array([[1,2,3,4],[5,6,7,8]])\n",
        "newarr = np.array_split(arr, 3)\n",
        "print(newarr) #List of Array\n",
        "#Individual Array\n",
        "for i in newarr:\n",
        "  print(i)"
      ],
      "metadata": {
        "colab": {
          "base_uri": "https://localhost:8080/"
        },
        "id": "GABgzOI1RfPg",
        "outputId": "71af946b-fc03-4b1b-afaf-63bd1dcf48db"
      },
      "execution_count": 44,
      "outputs": [
        {
          "output_type": "stream",
          "name": "stdout",
          "text": [
            "[array([[1, 2, 3, 4]]), array([[5, 6, 7, 8]]), array([], shape=(0, 4), dtype=int64)]\n",
            "[[1 2 3 4]]\n",
            "[[5 6 7 8]]\n",
            "[]\n"
          ]
        }
      ]
    },
    {
      "cell_type": "markdown",
      "source": [
        "# Search, Sort, Filter"
      ],
      "metadata": {
        "id": "VScnU0CqSBYZ"
      }
    },
    {
      "cell_type": "code",
      "source": [
        "arr = np.array([1,2,3,4,5,4,4])\n",
        "x = np.where(arr == 4)\n",
        "print(x)"
      ],
      "metadata": {
        "colab": {
          "base_uri": "https://localhost:8080/"
        },
        "id": "id9lVXDOSEhJ",
        "outputId": "00af7c77-d6af-4490-aa35-3ac14a6dd070"
      },
      "execution_count": 45,
      "outputs": [
        {
          "output_type": "stream",
          "name": "stdout",
          "text": [
            "(array([3, 5, 6]),)\n"
          ]
        }
      ]
    },
    {
      "cell_type": "code",
      "source": [
        "arr = np.array([1,2,3,4,5,4,4])\n",
        "x = np.searchsorted(arr, 4)\n",
        "print(x)\n",
        "y = np.searchsorted(arr, 4, side='right')\n",
        "print(y)\n",
        "z = np.searchsorted(arr, [2,4,6])\n",
        "print(z)"
      ],
      "metadata": {
        "colab": {
          "base_uri": "https://localhost:8080/"
        },
        "id": "D8LM7qZeSr2g",
        "outputId": "6eea4b55-797e-435c-f36b-b9cc83fc9d1e"
      },
      "execution_count": 47,
      "outputs": [
        {
          "output_type": "stream",
          "name": "stdout",
          "text": [
            "3\n",
            "7\n",
            "[1 3 7]\n"
          ]
        }
      ]
    },
    {
      "cell_type": "code",
      "source": [
        "arr = np.array([1,2,3,4,5,4,4])\n",
        "print(np.sort(arr))\n",
        "\n",
        "#Also work for strings\n",
        "\n",
        "arr = np.array(['B', 'A', 'C'])\n",
        "print(np.sort(arr))"
      ],
      "metadata": {
        "colab": {
          "base_uri": "https://localhost:8080/"
        },
        "id": "JkqRQ06nTke_",
        "outputId": "07dc18c3-4c0a-43d8-81e5-d6b48e2f5d13"
      },
      "execution_count": 49,
      "outputs": [
        {
          "output_type": "stream",
          "name": "stdout",
          "text": [
            "[1 2 3 4 4 4 5]\n",
            "['A' 'B' 'C']\n"
          ]
        }
      ]
    },
    {
      "cell_type": "code",
      "source": [
        "#For 2-D array\n",
        "arr = np.array([[3,2,4],[5,0,1]])\n",
        "print(np.sort(arr))"
      ],
      "metadata": {
        "colab": {
          "base_uri": "https://localhost:8080/"
        },
        "id": "iSwelbh6T2lK",
        "outputId": "433b6688-a94b-4292-8bc1-0bbe27bfd74c"
      },
      "execution_count": 51,
      "outputs": [
        {
          "output_type": "stream",
          "name": "stdout",
          "text": [
            "[[2 3 4]\n",
            " [0 1 5]]\n"
          ]
        }
      ]
    },
    {
      "cell_type": "code",
      "source": [
        "#Filter Function\n",
        "\n",
        "arr = np.array([41,42,43,44])\n",
        "x = [True, False, True, False]\n",
        "newarr = arr[x]\n",
        "print(newarr)"
      ],
      "metadata": {
        "colab": {
          "base_uri": "https://localhost:8080/"
        },
        "id": "I0XRX6SwT9k_",
        "outputId": "629eec12-2053-4e57-9583-30cad70c21ff"
      },
      "execution_count": 52,
      "outputs": [
        {
          "output_type": "stream",
          "name": "stdout",
          "text": [
            "[41 43]\n"
          ]
        }
      ]
    },
    {
      "cell_type": "code",
      "source": [
        "#Shuffle\n",
        "arr = np.array([1,2,3,4,5])\n",
        "np.random.shuffle(arr)\n",
        "print(arr)"
      ],
      "metadata": {
        "colab": {
          "base_uri": "https://localhost:8080/"
        },
        "id": "qaTRrIMOUf_r",
        "outputId": "2b2a8ab7-5449-4e28-8c1c-ec85ad7f747c"
      },
      "execution_count": 54,
      "outputs": [
        {
          "output_type": "stream",
          "name": "stdout",
          "text": [
            "[4 1 5 3 2]\n"
          ]
        }
      ]
    },
    {
      "cell_type": "code",
      "source": [
        "#Unique\n",
        "arr = np.array([1,2,3,4,5,4,4])\n",
        "print(np.unique(arr))\n",
        "print(np.unique(arr, return_index=True))\n",
        "print(np.unique(arr, return_counts=True))"
      ],
      "metadata": {
        "colab": {
          "base_uri": "https://localhost:8080/"
        },
        "id": "GC-EoOEJUkVS",
        "outputId": "aa62def5-70d1-47cb-a1ca-11edb9c66bc9"
      },
      "execution_count": 58,
      "outputs": [
        {
          "output_type": "stream",
          "name": "stdout",
          "text": [
            "[1 2 3 4 5]\n",
            "(array([1, 2, 3, 4, 5]), array([0, 1, 2, 3, 4]))\n",
            "(array([1, 2, 3, 4, 5]), array([1, 1, 1, 3, 1]))\n"
          ]
        }
      ]
    },
    {
      "cell_type": "code",
      "source": [
        "#Resize\n",
        "arr = np.array([1,2,3,4,5,6,7,8])\n",
        "newarr = np.resize(arr, (3,3))\n",
        "print(newarr)"
      ],
      "metadata": {
        "colab": {
          "base_uri": "https://localhost:8080/"
        },
        "id": "kwJiaWpnUrNB",
        "outputId": "144abb39-e924-4977-cdaa-e92d73b815ad"
      },
      "execution_count": 59,
      "outputs": [
        {
          "output_type": "stream",
          "name": "stdout",
          "text": [
            "[[1 2 3]\n",
            " [4 5 6]\n",
            " [7 8 1]]\n"
          ]
        }
      ]
    },
    {
      "cell_type": "code",
      "source": [
        "#Flatten\n",
        "arr = np.array([[1,2,3,4],[5,6,7,8]])\n",
        "newarr = arr.flatten()\n",
        "print(newarr)\n",
        "newarr = arr.flatten(order='F')\n",
        "print(newarr)"
      ],
      "metadata": {
        "colab": {
          "base_uri": "https://localhost:8080/"
        },
        "id": "JVm2iK5XVQqn",
        "outputId": "852164a0-45a2-4fa6-f749-84a364b1a4a9"
      },
      "execution_count": 64,
      "outputs": [
        {
          "output_type": "stream",
          "name": "stdout",
          "text": [
            "[1 2 3 4 5 6 7 8]\n",
            "[1 5 2 6 3 7 4 8]\n"
          ]
        }
      ]
    },
    {
      "cell_type": "code",
      "source": [
        "#Ravel\n",
        "arr = np.array([[1,2,3,4],[5,6,7,8]])\n",
        "newarr = arr.ravel()\n",
        "print(newarr)\n",
        "newarr = arr.ravel(order='F')\n",
        "print(newarr)"
      ],
      "metadata": {
        "colab": {
          "base_uri": "https://localhost:8080/"
        },
        "id": "tzh0h--fV8ud",
        "outputId": "51f70cf8-2408-40be-ee64-f8749389ae79"
      },
      "execution_count": 65,
      "outputs": [
        {
          "output_type": "stream",
          "name": "stdout",
          "text": [
            "[1 2 3 4 5 6 7 8]\n",
            "[1 5 2 6 3 7 4 8]\n"
          ]
        }
      ]
    },
    {
      "cell_type": "markdown",
      "source": [
        "# Insert and Delete"
      ],
      "metadata": {
        "id": "pjcHUG36WN4I"
      }
    },
    {
      "cell_type": "code",
      "source": [
        "arr = np.array([1,2,3,4])\n",
        "# print(np.insert(arr, 2, 10))\n",
        "print(np.append(arr,10))"
      ],
      "metadata": {
        "colab": {
          "base_uri": "https://localhost:8080/"
        },
        "id": "N6RUC-S_WQSP",
        "outputId": "621a46f1-f462-4e54-a4b5-446578654c23"
      },
      "execution_count": 70,
      "outputs": [
        {
          "output_type": "stream",
          "name": "stdout",
          "text": [
            "[ 1  2  3  4 10]\n"
          ]
        }
      ]
    },
    {
      "cell_type": "code",
      "source": [
        "arr = np.array([[1,2,3,4],[5,6,7,8]])\n",
        "print(np.insert(arr, 2, 10, axis=0))\n",
        "print(np.insert(arr, 2, 10, axis=1))"
      ],
      "metadata": {
        "colab": {
          "base_uri": "https://localhost:8080/"
        },
        "id": "_dGiuXfcWlEk",
        "outputId": "57db0a9c-f72c-4693-c5ec-fbd7f87ba086"
      },
      "execution_count": 67,
      "outputs": [
        {
          "output_type": "stream",
          "name": "stdout",
          "text": [
            "[[ 1  2  3  4]\n",
            " [ 5  6  7  8]\n",
            " [10 10 10 10]]\n",
            "[[ 1  2 10  3  4]\n",
            " [ 5  6 10  7  8]]\n"
          ]
        }
      ]
    },
    {
      "cell_type": "code",
      "source": [
        "arr = np.array([1,2,3,4])\n",
        "print(np.delete(arr, 2))"
      ],
      "metadata": {
        "colab": {
          "base_uri": "https://localhost:8080/"
        },
        "id": "oBYURAMSWqHp",
        "outputId": "8061d875-a1db-44e1-8ef3-838951d48116"
      },
      "execution_count": 68,
      "outputs": [
        {
          "output_type": "stream",
          "name": "stdout",
          "text": [
            "[1 2 4]\n"
          ]
        }
      ]
    },
    {
      "cell_type": "code",
      "source": [
        "arr = np.array([[1,2,3,4],[5,6,7,8]])\n",
        "print(np.delete(arr, 1, axis=0))\n",
        "print(np.delete(arr, 1, axis=1))"
      ],
      "metadata": {
        "colab": {
          "base_uri": "https://localhost:8080/"
        },
        "id": "6IdUD-I2Wt8U",
        "outputId": "26b7f3c4-1d52-4139-cec2-ed4cc03c61bb"
      },
      "execution_count": 71,
      "outputs": [
        {
          "output_type": "stream",
          "name": "stdout",
          "text": [
            "[[1 2 3 4]]\n",
            "[[1 3 4]\n",
            " [5 7 8]]\n"
          ]
        }
      ]
    },
    {
      "cell_type": "markdown",
      "source": [
        "# Matrix Multiplication"
      ],
      "metadata": {
        "id": "jO9hVo1sYVBM"
      }
    },
    {
      "cell_type": "code",
      "source": [
        "arr = np.array([[1,2,3,4],[5,6,7,8]])\n",
        "print(arr)\n",
        "print(type(arr))\n",
        "print(arr.shape)"
      ],
      "metadata": {
        "colab": {
          "base_uri": "https://localhost:8080/"
        },
        "id": "FJFbc_U9YUwQ",
        "outputId": "7e1c4d37-23b0-4b7a-eb43-d5b1e8f5d9b8"
      },
      "execution_count": 74,
      "outputs": [
        {
          "output_type": "stream",
          "name": "stdout",
          "text": [
            "[[1 2 3 4]\n",
            " [5 6 7 8]]\n",
            "<class 'numpy.ndarray'>\n",
            "(2, 4)\n"
          ]
        }
      ]
    },
    {
      "cell_type": "code",
      "source": [
        "mat = np.matrix(arr)\n",
        "print(mat)\n",
        "print(type(mat))\n",
        "print(mat.shape)"
      ],
      "metadata": {
        "colab": {
          "base_uri": "https://localhost:8080/"
        },
        "id": "PlLcMJQHY4qb",
        "outputId": "8b91be2e-4298-4a56-cee5-a7f779b2ab71"
      },
      "execution_count": 73,
      "outputs": [
        {
          "output_type": "stream",
          "name": "stdout",
          "text": [
            "[[1 2 3 4]\n",
            " [5 6 7 8]]\n",
            "<class 'numpy.matrix'>\n",
            "(2, 4)\n"
          ]
        }
      ]
    },
    {
      "cell_type": "code",
      "source": [
        "mat1 = np.matrix([[1,2,3,4],[5,6,7,8]])\n",
        "mat2 = np.matrix([[1,2,3,4],[5,6,7,8]])\n",
        "print(mat1+mat2)\n",
        "print(mat1-mat2)"
      ],
      "metadata": {
        "colab": {
          "base_uri": "https://localhost:8080/"
        },
        "id": "M127fcSQZQM_",
        "outputId": "7477ada9-84d9-440a-8819-f4b381a4897e"
      },
      "execution_count": 77,
      "outputs": [
        {
          "output_type": "stream",
          "name": "stdout",
          "text": [
            "[[ 2  4  6  8]\n",
            " [10 12 14 16]]\n",
            "[[0 0 0 0]\n",
            " [0 0 0 0]]\n"
          ]
        }
      ]
    },
    {
      "cell_type": "code",
      "source": [
        "mat1 = np.matrix([[1,2,3],[5,6,7],[4,6,8]])\n",
        "mat2 = np.matrix([[1,2,3],[5,6,7],[9,2,7]])\n",
        "print(mat1*mat2)\n",
        "print(mat1@mat2)\n",
        "print(np.dot(mat1, mat2))"
      ],
      "metadata": {
        "colab": {
          "base_uri": "https://localhost:8080/"
        },
        "id": "wKwqE8_wZeOu",
        "outputId": "d6cb2880-e209-4746-cfdd-72377435caf6"
      },
      "execution_count": 82,
      "outputs": [
        {
          "output_type": "stream",
          "name": "stdout",
          "text": [
            "[[ 38  20  38]\n",
            " [ 98  60 106]\n",
            " [106  60 110]]\n",
            "[[ 38  20  38]\n",
            " [ 98  60 106]\n",
            " [106  60 110]]\n",
            "[[ 38  20  38]\n",
            " [ 98  60 106]\n",
            " [106  60 110]]\n"
          ]
        }
      ]
    },
    {
      "cell_type": "code",
      "source": [
        "mat = np.matrix([[1,2,3,4],[5,6,7,8]])\n",
        "\n",
        "#Transpose\n",
        "print(mat.T)\n",
        "\n",
        "#Diagonal\n",
        "print(mat.diagonal())\n",
        "\n",
        "#Flatten\n",
        "print(mat.flatten())\n",
        "\n",
        "#Min\n",
        "print(mat.min())\n",
        "\n",
        "#Max\n",
        "print(mat.max())\n",
        "\n",
        "#Sum\n",
        "print(mat.sum())\n",
        "\n",
        "#Standard Deviation\n",
        "print(mat.std())\n",
        "\n"
      ],
      "metadata": {
        "colab": {
          "base_uri": "https://localhost:8080/"
        },
        "id": "iK84b07PaLTy",
        "outputId": "05408b96-8dc7-4731-aa0c-4560ac7ccd1d"
      },
      "execution_count": 83,
      "outputs": [
        {
          "output_type": "stream",
          "name": "stdout",
          "text": [
            "[[1 5]\n",
            " [2 6]\n",
            " [3 7]\n",
            " [4 8]]\n",
            "[[1 6]]\n",
            "[[1 2 3 4 5 6 7 8]]\n",
            "1\n",
            "8\n",
            "36\n",
            "2.29128784747792\n"
          ]
        }
      ]
    },
    {
      "cell_type": "code",
      "source": [
        "mat = np.matrix([[1,2],[5,6]])\n",
        "\n",
        "#Swapaxes\n",
        "print(mat.swapaxes(0,1))\n",
        "\n",
        "#Determinant\n",
        "print(np.linalg.det(mat))\n",
        "\n",
        "#Inverse\n",
        "print(mat.I)\n"
      ],
      "metadata": {
        "colab": {
          "base_uri": "https://localhost:8080/"
        },
        "id": "Goic8GYbaecr",
        "outputId": "21318f23-543f-4440-a803-3b72ed227f73"
      },
      "execution_count": 98,
      "outputs": [
        {
          "output_type": "stream",
          "name": "stdout",
          "text": [
            "[[1 5]\n",
            " [2 6]]\n",
            "-3.999999999999999\n",
            "[[-1.5   0.5 ]\n",
            " [ 1.25 -0.25]]\n"
          ]
        }
      ]
    },
    {
      "cell_type": "code",
      "source": [
        "#Power\n",
        "mat = np.matrix([[1,2],[5,6]])\n",
        "\n",
        "#For n=0, it is Identiy matrix\n",
        "print(np.linalg.matrix_power(mat, 0))\n",
        "\n",
        "#For n>1, it is Power of matrix\n",
        "print(np.linalg.matrix_power(mat, 2))\n",
        "\n",
        "#For n<0, it is multiplication of Inverse of matrix and Power of the matrix\n",
        "print(np.linalg.matrix_power(mat, -2))\n"
      ],
      "metadata": {
        "colab": {
          "base_uri": "https://localhost:8080/"
        },
        "id": "RopnGlDSbPAR",
        "outputId": "705e72bb-ac7b-4109-a257-ab032a5645f9"
      },
      "execution_count": 95,
      "outputs": [
        {
          "output_type": "stream",
          "name": "stdout",
          "text": [
            "[[1 0]\n",
            " [0 1]]\n",
            "[[11 14]\n",
            " [35 46]]\n",
            "[[ 2.875  -0.875 ]\n",
            " [-2.1875  0.6875]]\n"
          ]
        }
      ]
    }
  ]
}